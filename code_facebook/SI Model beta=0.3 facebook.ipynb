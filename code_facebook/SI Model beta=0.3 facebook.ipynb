{
 "cells": [
  {
   "cell_type": "markdown",
   "id": "3fb6f152",
   "metadata": {},
   "source": [
    "# Packages"
   ]
  },
  {
   "cell_type": "code",
   "execution_count": 23,
   "id": "a405fc01",
   "metadata": {},
   "outputs": [
    {
     "name": "stdout",
     "output_type": "stream",
     "text": [
      "Defaulting to user installation because normal site-packages is not writeable\n",
      "Collecting import_ipynb\n",
      "  Downloading import_ipynb-0.1.4-py3-none-any.whl (4.1 kB)\n",
      "Requirement already satisfied: IPython in c:\\programdata\\anaconda3\\lib\\site-packages (from import_ipynb) (7.31.1)\n",
      "Requirement already satisfied: nbformat in c:\\programdata\\anaconda3\\lib\\site-packages (from import_ipynb) (5.5.0)\n",
      "Requirement already satisfied: traitlets>=4.2 in c:\\programdata\\anaconda3\\lib\\site-packages (from IPython->import_ipynb) (5.1.1)\n",
      "Requirement already satisfied: backcall in c:\\programdata\\anaconda3\\lib\\site-packages (from IPython->import_ipynb) (0.2.0)\n",
      "Requirement already satisfied: colorama in c:\\programdata\\anaconda3\\lib\\site-packages (from IPython->import_ipynb) (0.4.5)\n",
      "Requirement already satisfied: pygments in c:\\programdata\\anaconda3\\lib\\site-packages (from IPython->import_ipynb) (2.11.2)\n",
      "Requirement already satisfied: matplotlib-inline in c:\\programdata\\anaconda3\\lib\\site-packages (from IPython->import_ipynb) (0.1.6)\n",
      "Requirement already satisfied: decorator in c:\\programdata\\anaconda3\\lib\\site-packages (from IPython->import_ipynb) (5.1.1)\n",
      "Requirement already satisfied: prompt-toolkit!=3.0.0,!=3.0.1,<3.1.0,>=2.0.0 in c:\\programdata\\anaconda3\\lib\\site-packages (from IPython->import_ipynb) (3.0.20)\n",
      "Requirement already satisfied: jedi>=0.16 in c:\\programdata\\anaconda3\\lib\\site-packages (from IPython->import_ipynb) (0.18.1)\n",
      "Requirement already satisfied: pickleshare in c:\\programdata\\anaconda3\\lib\\site-packages (from IPython->import_ipynb) (0.7.5)\n",
      "Requirement already satisfied: setuptools>=18.5 in c:\\programdata\\anaconda3\\lib\\site-packages (from IPython->import_ipynb) (63.4.1)\n",
      "Requirement already satisfied: jupyter_core in c:\\programdata\\anaconda3\\lib\\site-packages (from nbformat->import_ipynb) (4.11.1)\n",
      "Requirement already satisfied: fastjsonschema in c:\\programdata\\anaconda3\\lib\\site-packages (from nbformat->import_ipynb) (2.16.2)\n",
      "Requirement already satisfied: jsonschema>=2.6 in c:\\programdata\\anaconda3\\lib\\site-packages (from nbformat->import_ipynb) (4.16.0)\n",
      "Requirement already satisfied: parso<0.9.0,>=0.8.0 in c:\\programdata\\anaconda3\\lib\\site-packages (from jedi>=0.16->IPython->import_ipynb) (0.8.3)\n",
      "Requirement already satisfied: attrs>=17.4.0 in c:\\programdata\\anaconda3\\lib\\site-packages (from jsonschema>=2.6->nbformat->import_ipynb) (21.4.0)\n",
      "Requirement already satisfied: pyrsistent!=0.17.0,!=0.17.1,!=0.17.2,>=0.14.0 in c:\\programdata\\anaconda3\\lib\\site-packages (from jsonschema>=2.6->nbformat->import_ipynb) (0.18.0)\n",
      "Requirement already satisfied: wcwidth in c:\\programdata\\anaconda3\\lib\\site-packages (from prompt-toolkit!=3.0.0,!=3.0.1,<3.1.0,>=2.0.0->IPython->import_ipynb) (0.2.5)\n",
      "Requirement already satisfied: pywin32>=1.0 in c:\\programdata\\anaconda3\\lib\\site-packages (from jupyter_core->nbformat->import_ipynb) (302)\n",
      "Installing collected packages: import_ipynb\n",
      "Successfully installed import_ipynb-0.1.4\n",
      "Note: you may need to restart the kernel to use updated packages.\n"
     ]
    }
   ],
   "source": [
    "pip install  import_ipynb"
   ]
  },
  {
   "cell_type": "code",
   "execution_count": 24,
   "id": "c668da34",
   "metadata": {},
   "outputs": [
    {
     "name": "stdout",
     "output_type": "stream",
     "text": [
      "Defaulting to user installation because normal site-packages is not writeable\n",
      "Requirement already satisfied: ndlib in c:\\users\\dell\\appdata\\roaming\\python\\python39\\site-packages (5.1.1)\n",
      "Requirement already satisfied: python-igraph in c:\\users\\dell\\appdata\\roaming\\python\\python39\\site-packages (from ndlib) (0.10.2)\n",
      "Requirement already satisfied: scipy in c:\\programdata\\anaconda3\\lib\\site-packages (from ndlib) (1.9.1)\n",
      "Requirement already satisfied: future in c:\\programdata\\anaconda3\\lib\\site-packages (from ndlib) (0.18.2)\n",
      "Requirement already satisfied: dynetx in c:\\users\\dell\\appdata\\roaming\\python\\python39\\site-packages (from ndlib) (0.3.1)\n",
      "Requirement already satisfied: numpy in c:\\programdata\\anaconda3\\lib\\site-packages (from ndlib) (1.21.5)\n",
      "Requirement already satisfied: bokeh in c:\\programdata\\anaconda3\\lib\\site-packages (from ndlib) (2.4.3)\n",
      "Requirement already satisfied: networkx in c:\\programdata\\anaconda3\\lib\\site-packages (from ndlib) (2.8.4)\n",
      "Requirement already satisfied: netdispatch in c:\\users\\dell\\appdata\\roaming\\python\\python39\\site-packages (from ndlib) (0.1.0)\n",
      "Requirement already satisfied: typing-extensions>=3.10.0 in c:\\programdata\\anaconda3\\lib\\site-packages (from bokeh->ndlib) (4.3.0)\n",
      "Requirement already satisfied: PyYAML>=3.10 in c:\\programdata\\anaconda3\\lib\\site-packages (from bokeh->ndlib) (6.0)\n",
      "Requirement already satisfied: pillow>=7.1.0 in c:\\programdata\\anaconda3\\lib\\site-packages (from bokeh->ndlib) (9.2.0)\n",
      "Requirement already satisfied: packaging>=16.8 in c:\\programdata\\anaconda3\\lib\\site-packages (from bokeh->ndlib) (21.3)\n",
      "Requirement already satisfied: tornado>=5.1 in c:\\programdata\\anaconda3\\lib\\site-packages (from bokeh->ndlib) (6.1)\n",
      "Requirement already satisfied: Jinja2>=2.9 in c:\\programdata\\anaconda3\\lib\\site-packages (from bokeh->ndlib) (2.11.3)\n",
      "Requirement already satisfied: decorator in c:\\programdata\\anaconda3\\lib\\site-packages (from dynetx->ndlib) (5.1.1)\n",
      "Requirement already satisfied: tqdm in c:\\programdata\\anaconda3\\lib\\site-packages (from dynetx->ndlib) (4.64.1)\n",
      "Requirement already satisfied: igraph==0.10.2 in c:\\users\\dell\\appdata\\roaming\\python\\python39\\site-packages (from python-igraph->ndlib) (0.10.2)\n",
      "Requirement already satisfied: texttable>=1.6.2 in c:\\users\\dell\\appdata\\roaming\\python\\python39\\site-packages (from igraph==0.10.2->python-igraph->ndlib) (1.6.7)\n",
      "Requirement already satisfied: MarkupSafe>=0.23 in c:\\programdata\\anaconda3\\lib\\site-packages (from Jinja2>=2.9->bokeh->ndlib) (2.0.1)\n",
      "Requirement already satisfied: pyparsing!=3.0.5,>=2.0.2 in c:\\programdata\\anaconda3\\lib\\site-packages (from packaging>=16.8->bokeh->ndlib) (3.0.9)\n",
      "Requirement already satisfied: colorama in c:\\programdata\\anaconda3\\lib\\site-packages (from tqdm->dynetx->ndlib) (0.4.5)\n",
      "Note: you may need to restart the kernel to use updated packages.\n"
     ]
    }
   ],
   "source": [
    "pip install ndlib"
   ]
  },
  {
   "cell_type": "code",
   "execution_count": 14,
   "id": "ca844e71",
   "metadata": {},
   "outputs": [],
   "source": [
    "import pandas as pd\n",
    "import matplotlib.pyplot as plt\n",
    "import numpy as np"
   ]
  },
  {
   "cell_type": "code",
   "execution_count": 15,
   "id": "2da21bf5",
   "metadata": {},
   "outputs": [],
   "source": [
    "import networkx as nx\n",
    "import ndlib.models.ModelConfig as mc\n",
    "import ndlib.models.epidemics as ep"
   ]
  },
  {
   "cell_type": "markdown",
   "id": "185615cc",
   "metadata": {},
   "source": [
    "# Read Data"
   ]
  },
  {
   "cell_type": "code",
   "execution_count": 16,
   "id": "760b324f",
   "metadata": {},
   "outputs": [],
   "source": [
    "Graph = nx.read_edgelist('Data/facebookData.txt',create_using=nx.Graph(),nodetype=int)"
   ]
  },
  {
   "cell_type": "markdown",
   "id": "21bcd006",
   "metadata": {},
   "source": [
    "# Read Decision Matrix"
   ]
  },
  {
   "cell_type": "code",
   "execution_count": 17,
   "id": "d0f7731e",
   "metadata": {},
   "outputs": [
    {
     "data": {
      "text/html": [
       "<div>\n",
       "<style scoped>\n",
       "    .dataframe tbody tr th:only-of-type {\n",
       "        vertical-align: middle;\n",
       "    }\n",
       "\n",
       "    .dataframe tbody tr th {\n",
       "        vertical-align: top;\n",
       "    }\n",
       "\n",
       "    .dataframe thead th {\n",
       "        text-align: right;\n",
       "    }\n",
       "</style>\n",
       "<table border=\"1\" class=\"dataframe\">\n",
       "  <thead>\n",
       "    <tr style=\"text-align: right;\">\n",
       "      <th></th>\n",
       "      <th>Node</th>\n",
       "      <th>DC</th>\n",
       "      <th>BC</th>\n",
       "      <th>CC</th>\n",
       "      <th>EC</th>\n",
       "      <th>S+</th>\n",
       "      <th>S-</th>\n",
       "      <th>C</th>\n",
       "    </tr>\n",
       "  </thead>\n",
       "  <tbody>\n",
       "    <tr>\n",
       "      <th>0</th>\n",
       "      <td>107</td>\n",
       "      <td>0.258791</td>\n",
       "      <td>0.480518</td>\n",
       "      <td>0.459699</td>\n",
       "      <td>2.606940e-04</td>\n",
       "      <td>0.019029</td>\n",
       "      <td>0.200396</td>\n",
       "      <td>0.913277</td>\n",
       "    </tr>\n",
       "    <tr>\n",
       "      <th>1</th>\n",
       "      <td>1684</td>\n",
       "      <td>0.196137</td>\n",
       "      <td>0.337797</td>\n",
       "      <td>0.393606</td>\n",
       "      <td>7.164260e-06</td>\n",
       "      <td>0.061948</td>\n",
       "      <td>0.141539</td>\n",
       "      <td>0.695566</td>\n",
       "    </tr>\n",
       "    <tr>\n",
       "      <th>2</th>\n",
       "      <td>1912</td>\n",
       "      <td>0.186974</td>\n",
       "      <td>0.229295</td>\n",
       "      <td>0.350947</td>\n",
       "      <td>9.540696e-02</td>\n",
       "      <td>0.102563</td>\n",
       "      <td>0.100961</td>\n",
       "      <td>0.496063</td>\n",
       "    </tr>\n",
       "    <tr>\n",
       "      <th>3</th>\n",
       "      <td>3437</td>\n",
       "      <td>0.135463</td>\n",
       "      <td>0.236115</td>\n",
       "      <td>0.314413</td>\n",
       "      <td>9.531613e-08</td>\n",
       "      <td>0.103349</td>\n",
       "      <td>0.098846</td>\n",
       "      <td>0.488865</td>\n",
       "    </tr>\n",
       "    <tr>\n",
       "      <th>4</th>\n",
       "      <td>0</td>\n",
       "      <td>0.085934</td>\n",
       "      <td>0.146306</td>\n",
       "      <td>0.353343</td>\n",
       "      <td>3.391796e-05</td>\n",
       "      <td>0.140349</td>\n",
       "      <td>0.061395</td>\n",
       "      <td>0.304321</td>\n",
       "    </tr>\n",
       "    <tr>\n",
       "      <th>5</th>\n",
       "      <td>1085</td>\n",
       "      <td>0.016345</td>\n",
       "      <td>0.149015</td>\n",
       "      <td>0.357852</td>\n",
       "      <td>3.164082e-06</td>\n",
       "      <td>0.142845</td>\n",
       "      <td>0.060458</td>\n",
       "      <td>0.297379</td>\n",
       "    </tr>\n",
       "    <tr>\n",
       "      <th>6</th>\n",
       "      <td>698</td>\n",
       "      <td>0.016840</td>\n",
       "      <td>0.115330</td>\n",
       "      <td>0.271189</td>\n",
       "      <td>1.116876e-09</td>\n",
       "      <td>0.155715</td>\n",
       "      <td>0.046803</td>\n",
       "      <td>0.231106</td>\n",
       "    </tr>\n",
       "    <tr>\n",
       "      <th>7</th>\n",
       "      <td>567</td>\n",
       "      <td>0.015602</td>\n",
       "      <td>0.096310</td>\n",
       "      <td>0.328881</td>\n",
       "      <td>9.932295e-06</td>\n",
       "      <td>0.163087</td>\n",
       "      <td>0.039165</td>\n",
       "      <td>0.193646</td>\n",
       "    </tr>\n",
       "    <tr>\n",
       "      <th>8</th>\n",
       "      <td>58</td>\n",
       "      <td>0.002972</td>\n",
       "      <td>0.084360</td>\n",
       "      <td>0.397402</td>\n",
       "      <td>5.898120e-04</td>\n",
       "      <td>0.168330</td>\n",
       "      <td>0.034346</td>\n",
       "      <td>0.169464</td>\n",
       "    </tr>\n",
       "    <tr>\n",
       "      <th>9</th>\n",
       "      <td>428</td>\n",
       "      <td>0.028479</td>\n",
       "      <td>0.064309</td>\n",
       "      <td>0.394837</td>\n",
       "      <td>5.990065e-04</td>\n",
       "      <td>0.174851</td>\n",
       "      <td>0.026805</td>\n",
       "      <td>0.132923</td>\n",
       "    </tr>\n",
       "  </tbody>\n",
       "</table>\n",
       "</div>"
      ],
      "text/plain": [
       "   Node        DC        BC        CC            EC        S+        S-  \\\n",
       "0   107  0.258791  0.480518  0.459699  2.606940e-04  0.019029  0.200396   \n",
       "1  1684  0.196137  0.337797  0.393606  7.164260e-06  0.061948  0.141539   \n",
       "2  1912  0.186974  0.229295  0.350947  9.540696e-02  0.102563  0.100961   \n",
       "3  3437  0.135463  0.236115  0.314413  9.531613e-08  0.103349  0.098846   \n",
       "4     0  0.085934  0.146306  0.353343  3.391796e-05  0.140349  0.061395   \n",
       "5  1085  0.016345  0.149015  0.357852  3.164082e-06  0.142845  0.060458   \n",
       "6   698  0.016840  0.115330  0.271189  1.116876e-09  0.155715  0.046803   \n",
       "7   567  0.015602  0.096310  0.328881  9.932295e-06  0.163087  0.039165   \n",
       "8    58  0.002972  0.084360  0.397402  5.898120e-04  0.168330  0.034346   \n",
       "9   428  0.028479  0.064309  0.394837  5.990065e-04  0.174851  0.026805   \n",
       "\n",
       "          C  \n",
       "0  0.913277  \n",
       "1  0.695566  \n",
       "2  0.496063  \n",
       "3  0.488865  \n",
       "4  0.304321  \n",
       "5  0.297379  \n",
       "6  0.231106  \n",
       "7  0.193646  \n",
       "8  0.169464  \n",
       "9  0.132923  "
      ]
     },
     "execution_count": 17,
     "metadata": {},
     "output_type": "execute_result"
    }
   ],
   "source": [
    "#Read our decision Matrix\n",
    "res = pd.read_csv(\"Data/res.csv\")\n",
    "res.head(10)"
   ]
  },
  {
   "cell_type": "markdown",
   "id": "43c43f8e",
   "metadata": {},
   "source": [
    "# The top-10 ranked nodes by Topsis and Centrality measures"
   ]
  },
  {
   "cell_type": "code",
   "execution_count": 18,
   "id": "693d3441",
   "metadata": {},
   "outputs": [],
   "source": [
    "#The top-10 ranked nodes by degree centrality (DC)\n",
    "DCR = res[[\"Node\", \"DC\"]]\n",
    "DCR = DCR.sort_values(by='DC', ascending=False)\n",
    "DCR.rename(columns = {'Node':'DCN'}, inplace=True)\n",
    "\n",
    "DCR[\"DCN\"].to_csv(\"Data/DCR.csv\",index=False)"
   ]
  },
  {
   "cell_type": "code",
   "execution_count": 19,
   "id": "f0475aa2",
   "metadata": {},
   "outputs": [],
   "source": [
    "#The top-10 ranked nodes by betweenness centrality (BC)\n",
    "BCR = res[[\"Node\", \"BC\"]]\n",
    "BCR = BCR.sort_values(by='BC', ascending=False)\n",
    "BCR.rename(columns = {'Node':'BCN'}, inplace=True)\n",
    "\n",
    "BCR[\"BCN\"].to_csv(\"Data/BCR.csv\",index=False)"
   ]
  },
  {
   "cell_type": "code",
   "execution_count": 20,
   "id": "4412b988",
   "metadata": {},
   "outputs": [],
   "source": [
    "#The top-10 ranked nodes by closeness centrality (CC)\n",
    "CCR = res[[\"Node\", \"CC\"]]\n",
    "CCR = CCR.sort_values(by='CC', ascending=False)\n",
    "CCR.rename(columns = {'Node':'CCN'}, inplace=True)\n",
    "\n",
    "CCR[\"CCN\"].to_csv(\"Data/CCR.csv\",index=False)"
   ]
  },
  {
   "cell_type": "code",
   "execution_count": 21,
   "id": "f23bf856",
   "metadata": {},
   "outputs": [],
   "source": [
    "#The top-10 ranked nodes by eigenvector centrality (EC)\n",
    "ECR = res[[\"Node\", \"EC\"]]\n",
    "ECR = ECR.sort_values(by='EC', ascending=False)\n",
    "ECR.rename(columns = {'Node':'ECN'}, inplace=True)\n",
    "\n",
    "ECR[\"ECN\"].to_csv(\"Data/ECR.csv\",index=False)"
   ]
  },
  {
   "cell_type": "code",
   "execution_count": 22,
   "id": "700c4624",
   "metadata": {},
   "outputs": [],
   "source": [
    "fac = pd.concat([pd.read_csv(\"Data/DCR.csv\"),pd.read_csv(\"Data/BCR.csv\"), pd.read_csv(\"Data/CCR.csv\"), pd.read_csv(\"Data/ECR.csv\")],axis=1)"
   ]
  },
  {
   "cell_type": "code",
   "execution_count": 23,
   "id": "3ea5981d",
   "metadata": {},
   "outputs": [
    {
     "data": {
      "text/html": [
       "<div>\n",
       "<style scoped>\n",
       "    .dataframe tbody tr th:only-of-type {\n",
       "        vertical-align: middle;\n",
       "    }\n",
       "\n",
       "    .dataframe tbody tr th {\n",
       "        vertical-align: top;\n",
       "    }\n",
       "\n",
       "    .dataframe thead th {\n",
       "        text-align: right;\n",
       "    }\n",
       "</style>\n",
       "<table border=\"1\" class=\"dataframe\">\n",
       "  <thead>\n",
       "    <tr style=\"text-align: right;\">\n",
       "      <th></th>\n",
       "      <th>DCN</th>\n",
       "      <th>BCN</th>\n",
       "      <th>CCN</th>\n",
       "      <th>ECN</th>\n",
       "      <th>Node</th>\n",
       "    </tr>\n",
       "  </thead>\n",
       "  <tbody>\n",
       "    <tr>\n",
       "      <th>0</th>\n",
       "      <td>107</td>\n",
       "      <td>107</td>\n",
       "      <td>107</td>\n",
       "      <td>1912</td>\n",
       "      <td>10.0</td>\n",
       "    </tr>\n",
       "    <tr>\n",
       "      <th>1</th>\n",
       "      <td>1684</td>\n",
       "      <td>1684</td>\n",
       "      <td>58</td>\n",
       "      <td>2266</td>\n",
       "      <td>2.0</td>\n",
       "    </tr>\n",
       "    <tr>\n",
       "      <th>2</th>\n",
       "      <td>1912</td>\n",
       "      <td>3437</td>\n",
       "      <td>428</td>\n",
       "      <td>2206</td>\n",
       "      <td>12.0</td>\n",
       "    </tr>\n",
       "    <tr>\n",
       "      <th>3</th>\n",
       "      <td>3437</td>\n",
       "      <td>1912</td>\n",
       "      <td>563</td>\n",
       "      <td>2233</td>\n",
       "      <td>1.0</td>\n",
       "    </tr>\n",
       "    <tr>\n",
       "      <th>4</th>\n",
       "      <td>0</td>\n",
       "      <td>1085</td>\n",
       "      <td>1684</td>\n",
       "      <td>2464</td>\n",
       "      <td>35.0</td>\n",
       "    </tr>\n",
       "    <tr>\n",
       "      <th>5</th>\n",
       "      <td>2543</td>\n",
       "      <td>0</td>\n",
       "      <td>171</td>\n",
       "      <td>2142</td>\n",
       "      <td>3.0</td>\n",
       "    </tr>\n",
       "    <tr>\n",
       "      <th>6</th>\n",
       "      <td>2347</td>\n",
       "      <td>698</td>\n",
       "      <td>348</td>\n",
       "      <td>2218</td>\n",
       "      <td>24.0</td>\n",
       "    </tr>\n",
       "    <tr>\n",
       "      <th>7</th>\n",
       "      <td>1888</td>\n",
       "      <td>567</td>\n",
       "      <td>483</td>\n",
       "      <td>2078</td>\n",
       "      <td>16.0</td>\n",
       "    </tr>\n",
       "    <tr>\n",
       "      <th>8</th>\n",
       "      <td>1800</td>\n",
       "      <td>58</td>\n",
       "      <td>414</td>\n",
       "      <td>2123</td>\n",
       "      <td>8.0</td>\n",
       "    </tr>\n",
       "    <tr>\n",
       "      <th>9</th>\n",
       "      <td>1663</td>\n",
       "      <td>428</td>\n",
       "      <td>376</td>\n",
       "      <td>1993</td>\n",
       "      <td>9.0</td>\n",
       "    </tr>\n",
       "  </tbody>\n",
       "</table>\n",
       "</div>"
      ],
      "text/plain": [
       "    DCN   BCN   CCN   ECN  Node\n",
       "0   107   107   107  1912  10.0\n",
       "1  1684  1684    58  2266   2.0\n",
       "2  1912  3437   428  2206  12.0\n",
       "3  3437  1912   563  2233   1.0\n",
       "4     0  1085  1684  2464  35.0\n",
       "5  2543     0   171  2142   3.0\n",
       "6  2347   698   348  2218  24.0\n",
       "7  1888   567   483  2078  16.0\n",
       "8  1800    58   414  2123   8.0\n",
       "9  1663   428   376  1993   9.0"
      ]
     },
     "execution_count": 23,
     "metadata": {},
     "output_type": "execute_result"
    }
   ],
   "source": [
    "#Concate the results\n",
    "facebook = pd.concat([fac,pd.read_csv(\"Data/Topsis.csv\")],axis=1)\n",
    "\n",
    "facebook = facebook.head(10)\n",
    "facebook"
   ]
  },
  {
   "cell_type": "markdown",
   "id": "e7176daf",
   "metadata": {},
   "source": [
    "# Application SI Model"
   ]
  },
  {
   "cell_type": "code",
   "execution_count": 35,
   "id": "69c77532",
   "metadata": {},
   "outputs": [],
   "source": [
    "def SI(nodes):\n",
    "    n = 4039\n",
    "    Lst = []\n",
    "    model = ep.SIModel(Graph)\n",
    "    cfg = mc.Configuration()\n",
    "    cfg.add_model_parameter('beta', 0.3)\n",
    "    cfg.add_model_initial_configuration('Infected', nodes)\n",
    "    model.set_initial_status(cfg)\n",
    "    res = pd.DataFrame(columns=['iteration', 'Nb_Susceptible', 'Nb_infected'])\n",
    "    for i in range(n):\n",
    "        iteration = model.iteration()\n",
    "        res.loc[len(res.index)] = [iteration['iteration'],iteration['node_count'][0], iteration['node_count'][1] ]\n",
    "        if iteration['node_count'][1] == n:\n",
    "            break\n",
    "    \n",
    "    Lst.append(res['iteration'].tolist())\n",
    "    Lst.append(res['Nb_Susceptible'].tolist())\n",
    "    Lst.append(res['Nb_infected'].tolist())\n",
    "                     \n",
    "    return Lst"
   ]
  },
  {
   "cell_type": "code",
   "execution_count": 36,
   "id": "e0dbae3a",
   "metadata": {},
   "outputs": [],
   "source": [
    "Rank_DC = set(facebook['DCN'])\n",
    "Rank_BC = set(facebook['BCN'])\n",
    "Rank_CC = set(facebook['CCN'])\n",
    "Rank_EC = set(facebook['ECN'])\n",
    "Rank_Topsis = set(facebook['Node'])\n"
   ]
  },
  {
   "cell_type": "code",
   "execution_count": 47,
   "id": "734737ea",
   "metadata": {},
   "outputs": [],
   "source": [
    "DClst = []\n",
    "BClst = []\n",
    "CClst = []\n",
    "EClst = []\n",
    "TOPSISlst = []\n",
    "for i in range(10):\n",
    "    DClst.append(SI(Rank_DC))\n",
    "    BClst.append(SI(Rank_BC))\n",
    "    CClst.append(SI(Rank_CC))\n",
    "    EClst.append(SI(Rank_EC))\n",
    "    TOPSISlst.append(SI(Rank_Topsis))"
   ]
  },
  {
   "cell_type": "code",
   "execution_count": 48,
   "id": "d59bae23",
   "metadata": {},
   "outputs": [],
   "source": [
    "def Std_mean(lis):\n",
    "    dc = {}\n",
    "    sd = []\n",
    "    mean = []\n",
    "    for i in range(10):\n",
    "        for j in range(len(lis[i][0])):\n",
    "            dc[lis[i][0][j]]=[]\n",
    "    for i in range(10):\n",
    "        for j in range(len(lis[i][0])):\n",
    "            dc[lis[i][0][j]].append(lis[i][2][j])\n",
    "    for i in dc:\n",
    "        sd.append(np.std(dc[i]))\n",
    "        mean.append(np.mean(dc[i]))\n",
    "    return mean, sd"
   ]
  },
  {
   "cell_type": "code",
   "execution_count": 49,
   "id": "744bc245",
   "metadata": {},
   "outputs": [],
   "source": [
    "DCmean, DCsd = Std_mean(DClst)\n",
    "BCmean, BCsd = Std_mean(BClst)\n",
    "CCmean, CCsd = Std_mean(CClst)\n",
    "ECmean, ECsd = Std_mean(EClst)\n",
    "TOPSISmean, TOPSISsd = Std_mean(TOPSISlst)"
   ]
  },
  {
   "cell_type": "markdown",
   "id": "f293011c",
   "metadata": {},
   "source": [
    "# Plot the results"
   ]
  },
  {
   "cell_type": "code",
   "execution_count": 51,
   "id": "f005a593",
   "metadata": {},
   "outputs": [
    {
     "data": {
      "image/png": "[encoded data removed]",
      "text/plain": [
       "<Figure size 1500x900 with 4 Axes>"
      ]
     },
     "metadata": {},
     "output_type": "display_data"
    }
   ],
   "source": [
    "\n",
    "fig, ax = plt.subplots(2, 2,figsize=(15, 9))\n",
    "ax[0, 0].set_title('topsis VS degree centrality')\n",
    "ax[0, 0].plot(list(range(len(TOPSISmean))), TOPSISmean, label='Topsis')\n",
    "ax[0, 0].errorbar(list(range(len(TOPSISmean))), TOPSISmean, yerr=TOPSISsd, fmt ='.k')\n",
    "ax[0, 0].plot(list(range(len(DCmean))) , DCmean, label='DC')\n",
    "ax[0, 0].errorbar(list(range(len(DCmean))), DCmean, yerr=DCsd, fmt ='.k')\n",
    "ax[0, 0].legend()\n",
    "\n",
    "ax[1, 0].set_title('topsis VS closeness centrality')\n",
    "ax[1, 0].plot(list(range(len(CCmean))) , CCmean, label='CC')\n",
    "ax[1, 0].errorbar(list(range(len(CCmean))) , CCmean, yerr=CCsd, fmt ='.k')\n",
    "ax[1, 0].plot(list(range(len(TOPSISmean))), TOPSISmean, label='Topsis')\n",
    "ax[1, 0].errorbar(list(range(len(TOPSISmean))), TOPSISmean, yerr=TOPSISsd, fmt ='.k')\n",
    "ax[1, 0].legend()\n",
    "\n",
    "ax[0, 1].set_title('topsis vs eigenvector centrality')\n",
    "ax[0, 1].plot(list(range(len(ECmean))) , ECmean, label='EC')\n",
    "ax[0, 1].errorbar(list(range(len(ECmean))) , ECmean, yerr=ECsd, fmt ='.k')\n",
    "ax[0, 1].plot(list(range(len(TOPSISmean))), TOPSISmean, label='Topsis')\n",
    "ax[0, 1].errorbar(list(range(len(TOPSISmean))), TOPSISmean, yerr=TOPSISsd, fmt ='.k')\n",
    "ax[0, 1].legend()\n",
    "\n",
    "ax[1, 1].set_title('topsis vs betweeness centrality')\n",
    "ax[1, 1].plot(list(range(len(TOPSISmean))), TOPSISmean, label='BC')\n",
    "ax[1, 1].errorbar(list(range(len(TOPSISmean))), TOPSISmean, yerr=TOPSISsd, fmt ='.k')\n",
    "ax[1, 1].plot(list(range(len(BCmean))) , BCmean, label='Topsis')\n",
    "ax[1, 1].errorbar(list(range(len(BCmean))) , BCmean, yerr=BCsd, fmt ='.k')\n",
    "ax[1, 1].legend()\n",
    "\n",
    "\n",
    "fig.suptitle('Facebook')\n",
    "plt.show()"
   ]
  },
  {
   "cell_type": "code",
   "execution_count": null,
   "id": "eb38f427",
   "metadata": {},
   "outputs": [],
   "source": []
  }
 ],
 "metadata": {
  "kernelspec": {
   "display_name": "Python 3 (ipykernel)",
   "language": "python",
   "name": "python3"
  },
  "language_info": {
   "codemirror_mode": {
    "name": "ipython",
    "version": 3
   },
   "file_extension": ".py",
   "mimetype": "text/x-python",
   "name": "python",
   "nbconvert_exporter": "python",
   "pygments_lexer": "ipython3",
   "version": "3.9.13"
  }
 },
 "nbformat": 4,
 "nbformat_minor": 5
}
