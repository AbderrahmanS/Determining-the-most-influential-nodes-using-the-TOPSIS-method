{
 "cells": [
  {
   "cell_type": "markdown",
   "id": "3fb6f152",
   "metadata": {},
   "source": [
    "# Packages"
   ]
  },
  {
   "cell_type": "code",
   "execution_count": 23,
   "id": "a405fc01",
   "metadata": {},
   "outputs": [
    {
     "name": "stdout",
     "output_type": "stream",
     "text": [
      "Defaulting to user installation because normal site-packages is not writeable\n",
      "Collecting import_ipynb\n",
      "  Downloading import_ipynb-0.1.4-py3-none-any.whl (4.1 kB)\n",
      "Requirement already satisfied: IPython in c:\\programdata\\anaconda3\\lib\\site-packages (from import_ipynb) (7.31.1)\n",
      "Requirement already satisfied: nbformat in c:\\programdata\\anaconda3\\lib\\site-packages (from import_ipynb) (5.5.0)\n",
      "Requirement already satisfied: traitlets>=4.2 in c:\\programdata\\anaconda3\\lib\\site-packages (from IPython->import_ipynb) (5.1.1)\n",
      "Requirement already satisfied: backcall in c:\\programdata\\anaconda3\\lib\\site-packages (from IPython->import_ipynb) (0.2.0)\n",
      "Requirement already satisfied: colorama in c:\\programdata\\anaconda3\\lib\\site-packages (from IPython->import_ipynb) (0.4.5)\n",
      "Requirement already satisfied: pygments in c:\\programdata\\anaconda3\\lib\\site-packages (from IPython->import_ipynb) (2.11.2)\n",
      "Requirement already satisfied: matplotlib-inline in c:\\programdata\\anaconda3\\lib\\site-packages (from IPython->import_ipynb) (0.1.6)\n",
      "Requirement already satisfied: decorator in c:\\programdata\\anaconda3\\lib\\site-packages (from IPython->import_ipynb) (5.1.1)\n",
      "Requirement already satisfied: prompt-toolkit!=3.0.0,!=3.0.1,<3.1.0,>=2.0.0 in c:\\programdata\\anaconda3\\lib\\site-packages (from IPython->import_ipynb) (3.0.20)\n",
      "Requirement already satisfied: jedi>=0.16 in c:\\programdata\\anaconda3\\lib\\site-packages (from IPython->import_ipynb) (0.18.1)\n",
      "Requirement already satisfied: pickleshare in c:\\programdata\\anaconda3\\lib\\site-packages (from IPython->import_ipynb) (0.7.5)\n",
      "Requirement already satisfied: setuptools>=18.5 in c:\\programdata\\anaconda3\\lib\\site-packages (from IPython->import_ipynb) (63.4.1)\n",
      "Requirement already satisfied: jupyter_core in c:\\programdata\\anaconda3\\lib\\site-packages (from nbformat->import_ipynb) (4.11.1)\n",
      "Requirement already satisfied: fastjsonschema in c:\\programdata\\anaconda3\\lib\\site-packages (from nbformat->import_ipynb) (2.16.2)\n",
      "Requirement already satisfied: jsonschema>=2.6 in c:\\programdata\\anaconda3\\lib\\site-packages (from nbformat->import_ipynb) (4.16.0)\n",
      "Requirement already satisfied: parso<0.9.0,>=0.8.0 in c:\\programdata\\anaconda3\\lib\\site-packages (from jedi>=0.16->IPython->import_ipynb) (0.8.3)\n",
      "Requirement already satisfied: attrs>=17.4.0 in c:\\programdata\\anaconda3\\lib\\site-packages (from jsonschema>=2.6->nbformat->import_ipynb) (21.4.0)\n",
      "Requirement already satisfied: pyrsistent!=0.17.0,!=0.17.1,!=0.17.2,>=0.14.0 in c:\\programdata\\anaconda3\\lib\\site-packages (from jsonschema>=2.6->nbformat->import_ipynb) (0.18.0)\n",
      "Requirement already satisfied: wcwidth in c:\\programdata\\anaconda3\\lib\\site-packages (from prompt-toolkit!=3.0.0,!=3.0.1,<3.1.0,>=2.0.0->IPython->import_ipynb) (0.2.5)\n",
      "Requirement already satisfied: pywin32>=1.0 in c:\\programdata\\anaconda3\\lib\\site-packages (from jupyter_core->nbformat->import_ipynb) (302)\n",
      "Installing collected packages: import_ipynb\n",
      "Successfully installed import_ipynb-0.1.4\n",
      "Note: you may need to restart the kernel to use updated packages.\n"
     ]
    }
   ],
   "source": [
    "pip install  import_ipynb"
   ]
  },
  {
   "cell_type": "code",
   "execution_count": 24,
   "id": "c668da34",
   "metadata": {},
   "outputs": [
    {
     "name": "stdout",
     "output_type": "stream",
     "text": [
      "Defaulting to user installation because normal site-packages is not writeable\n",
      "Requirement already satisfied: ndlib in c:\\users\\dell\\appdata\\roaming\\python\\python39\\site-packages (5.1.1)\n",
      "Requirement already satisfied: python-igraph in c:\\users\\dell\\appdata\\roaming\\python\\python39\\site-packages (from ndlib) (0.10.2)\n",
      "Requirement already satisfied: scipy in c:\\programdata\\anaconda3\\lib\\site-packages (from ndlib) (1.9.1)\n",
      "Requirement already satisfied: future in c:\\programdata\\anaconda3\\lib\\site-packages (from ndlib) (0.18.2)\n",
      "Requirement already satisfied: dynetx in c:\\users\\dell\\appdata\\roaming\\python\\python39\\site-packages (from ndlib) (0.3.1)\n",
      "Requirement already satisfied: numpy in c:\\programdata\\anaconda3\\lib\\site-packages (from ndlib) (1.21.5)\n",
      "Requirement already satisfied: bokeh in c:\\programdata\\anaconda3\\lib\\site-packages (from ndlib) (2.4.3)\n",
      "Requirement already satisfied: networkx in c:\\programdata\\anaconda3\\lib\\site-packages (from ndlib) (2.8.4)\n",
      "Requirement already satisfied: netdispatch in c:\\users\\dell\\appdata\\roaming\\python\\python39\\site-packages (from ndlib) (0.1.0)\n",
      "Requirement already satisfied: typing-extensions>=3.10.0 in c:\\programdata\\anaconda3\\lib\\site-packages (from bokeh->ndlib) (4.3.0)\n",
      "Requirement already satisfied: PyYAML>=3.10 in c:\\programdata\\anaconda3\\lib\\site-packages (from bokeh->ndlib) (6.0)\n",
      "Requirement already satisfied: pillow>=7.1.0 in c:\\programdata\\anaconda3\\lib\\site-packages (from bokeh->ndlib) (9.2.0)\n",
      "Requirement already satisfied: packaging>=16.8 in c:\\programdata\\anaconda3\\lib\\site-packages (from bokeh->ndlib) (21.3)\n",
      "Requirement already satisfied: tornado>=5.1 in c:\\programdata\\anaconda3\\lib\\site-packages (from bokeh->ndlib) (6.1)\n",
      "Requirement already satisfied: Jinja2>=2.9 in c:\\programdata\\anaconda3\\lib\\site-packages (from bokeh->ndlib) (2.11.3)\n",
      "Requirement already satisfied: decorator in c:\\programdata\\anaconda3\\lib\\site-packages (from dynetx->ndlib) (5.1.1)\n",
      "Requirement already satisfied: tqdm in c:\\programdata\\anaconda3\\lib\\site-packages (from dynetx->ndlib) (4.64.1)\n",
      "Requirement already satisfied: igraph==0.10.2 in c:\\users\\dell\\appdata\\roaming\\python\\python39\\site-packages (from python-igraph->ndlib) (0.10.2)\n",
      "Requirement already satisfied: texttable>=1.6.2 in c:\\users\\dell\\appdata\\roaming\\python\\python39\\site-packages (from igraph==0.10.2->python-igraph->ndlib) (1.6.7)\n",
      "Requirement already satisfied: MarkupSafe>=0.23 in c:\\programdata\\anaconda3\\lib\\site-packages (from Jinja2>=2.9->bokeh->ndlib) (2.0.1)\n",
      "Requirement already satisfied: pyparsing!=3.0.5,>=2.0.2 in c:\\programdata\\anaconda3\\lib\\site-packages (from packaging>=16.8->bokeh->ndlib) (3.0.9)\n",
      "Requirement already satisfied: colorama in c:\\programdata\\anaconda3\\lib\\site-packages (from tqdm->dynetx->ndlib) (0.4.5)\n",
      "Note: you may need to restart the kernel to use updated packages.\n"
     ]
    }
   ],
   "source": [
    "pip install ndlib"
   ]
  },
  {
   "cell_type": "code",
   "execution_count": 16,
   "id": "ca844e71",
   "metadata": {},
   "outputs": [],
   "source": [
    "import pandas as pd\n",
    "import matplotlib.pyplot as plt\n",
    "import numpy as np"
   ]
  },
  {
   "cell_type": "code",
   "execution_count": 17,
   "id": "2da21bf5",
   "metadata": {},
   "outputs": [],
   "source": [
    "import networkx as nx\n",
    "import ndlib.models.ModelConfig as mc\n",
    "import ndlib.models.epidemics as ep"
   ]
  },
  {
   "cell_type": "markdown",
   "id": "185615cc",
   "metadata": {},
   "source": [
    "# Read Data"
   ]
  },
  {
   "cell_type": "code",
   "execution_count": 18,
   "id": "760b324f",
   "metadata": {},
   "outputs": [],
   "source": [
    "Graph = nx.read_edgelist('Data/comm2.txt',create_using=nx.Graph(),nodetype=int)"
   ]
  },
  {
   "cell_type": "markdown",
   "id": "21bcd006",
   "metadata": {},
   "source": [
    "# Read Decision Matrix"
   ]
  },
  {
   "cell_type": "code",
   "execution_count": 19,
   "id": "d0f7731e",
   "metadata": {},
   "outputs": [
    {
     "data": {
      "text/html": [
       "<div>\n",
       "<style scoped>\n",
       "    .dataframe tbody tr th:only-of-type {\n",
       "        vertical-align: middle;\n",
       "    }\n",
       "\n",
       "    .dataframe tbody tr th {\n",
       "        vertical-align: top;\n",
       "    }\n",
       "\n",
       "    .dataframe thead th {\n",
       "        text-align: right;\n",
       "    }\n",
       "</style>\n",
       "<table border=\"1\" class=\"dataframe\">\n",
       "  <thead>\n",
       "    <tr style=\"text-align: right;\">\n",
       "      <th></th>\n",
       "      <th>Node</th>\n",
       "      <th>DC</th>\n",
       "      <th>CC</th>\n",
       "      <th>BC</th>\n",
       "      <th>EC</th>\n",
       "      <th>S+</th>\n",
       "      <th>S-</th>\n",
       "      <th>C</th>\n",
       "    </tr>\n",
       "  </thead>\n",
       "  <tbody>\n",
       "    <tr>\n",
       "      <th>0</th>\n",
       "      <td>686</td>\n",
       "      <td>0.216561</td>\n",
       "      <td>0.218421</td>\n",
       "      <td>0.048057</td>\n",
       "      <td>2.701246e-07</td>\n",
       "      <td>0.038454</td>\n",
       "      <td>0.142088</td>\n",
       "      <td>0.787010</td>\n",
       "    </tr>\n",
       "    <tr>\n",
       "      <th>1</th>\n",
       "      <td>687</td>\n",
       "      <td>0.001274</td>\n",
       "      <td>0.115666</td>\n",
       "      <td>0.000000</td>\n",
       "      <td>1.216925e-08</td>\n",
       "      <td>0.047809</td>\n",
       "      <td>0.128745</td>\n",
       "      <td>0.729210</td>\n",
       "    </tr>\n",
       "    <tr>\n",
       "      <th>2</th>\n",
       "      <td>688</td>\n",
       "      <td>0.001274</td>\n",
       "      <td>0.115666</td>\n",
       "      <td>0.000000</td>\n",
       "      <td>1.216925e-08</td>\n",
       "      <td>0.056551</td>\n",
       "      <td>0.118178</td>\n",
       "      <td>0.676352</td>\n",
       "    </tr>\n",
       "    <tr>\n",
       "      <th>3</th>\n",
       "      <td>689</td>\n",
       "      <td>0.001274</td>\n",
       "      <td>0.115666</td>\n",
       "      <td>0.000000</td>\n",
       "      <td>1.216925e-08</td>\n",
       "      <td>0.079416</td>\n",
       "      <td>0.084373</td>\n",
       "      <td>0.515132</td>\n",
       "    </tr>\n",
       "    <tr>\n",
       "      <th>4</th>\n",
       "      <td>690</td>\n",
       "      <td>0.001274</td>\n",
       "      <td>0.115666</td>\n",
       "      <td>0.000000</td>\n",
       "      <td>1.216925e-08</td>\n",
       "      <td>0.091859</td>\n",
       "      <td>0.073181</td>\n",
       "      <td>0.443414</td>\n",
       "    </tr>\n",
       "    <tr>\n",
       "      <th>5</th>\n",
       "      <td>691</td>\n",
       "      <td>0.001274</td>\n",
       "      <td>0.115666</td>\n",
       "      <td>0.000000</td>\n",
       "      <td>1.216925e-08</td>\n",
       "      <td>0.095394</td>\n",
       "      <td>0.071124</td>\n",
       "      <td>0.427126</td>\n",
       "    </tr>\n",
       "    <tr>\n",
       "      <th>6</th>\n",
       "      <td>692</td>\n",
       "      <td>0.001274</td>\n",
       "      <td>0.115666</td>\n",
       "      <td>0.000000</td>\n",
       "      <td>1.216925e-08</td>\n",
       "      <td>0.101845</td>\n",
       "      <td>0.062259</td>\n",
       "      <td>0.379388</td>\n",
       "    </tr>\n",
       "    <tr>\n",
       "      <th>7</th>\n",
       "      <td>693</td>\n",
       "      <td>0.001274</td>\n",
       "      <td>0.115666</td>\n",
       "      <td>0.000000</td>\n",
       "      <td>1.216925e-08</td>\n",
       "      <td>0.106434</td>\n",
       "      <td>0.063799</td>\n",
       "      <td>0.374776</td>\n",
       "    </tr>\n",
       "    <tr>\n",
       "      <th>8</th>\n",
       "      <td>694</td>\n",
       "      <td>0.001274</td>\n",
       "      <td>0.115666</td>\n",
       "      <td>0.000000</td>\n",
       "      <td>1.216925e-08</td>\n",
       "      <td>0.103636</td>\n",
       "      <td>0.058976</td>\n",
       "      <td>0.362678</td>\n",
       "    </tr>\n",
       "    <tr>\n",
       "      <th>9</th>\n",
       "      <td>695</td>\n",
       "      <td>0.001274</td>\n",
       "      <td>0.115666</td>\n",
       "      <td>0.000000</td>\n",
       "      <td>1.216925e-08</td>\n",
       "      <td>0.112790</td>\n",
       "      <td>0.047034</td>\n",
       "      <td>0.294284</td>\n",
       "    </tr>\n",
       "  </tbody>\n",
       "</table>\n",
       "</div>"
      ],
      "text/plain": [
       "   Node        DC        CC        BC            EC        S+        S-  \\\n",
       "0   686  0.216561  0.218421  0.048057  2.701246e-07  0.038454  0.142088   \n",
       "1   687  0.001274  0.115666  0.000000  1.216925e-08  0.047809  0.128745   \n",
       "2   688  0.001274  0.115666  0.000000  1.216925e-08  0.056551  0.118178   \n",
       "3   689  0.001274  0.115666  0.000000  1.216925e-08  0.079416  0.084373   \n",
       "4   690  0.001274  0.115666  0.000000  1.216925e-08  0.091859  0.073181   \n",
       "5   691  0.001274  0.115666  0.000000  1.216925e-08  0.095394  0.071124   \n",
       "6   692  0.001274  0.115666  0.000000  1.216925e-08  0.101845  0.062259   \n",
       "7   693  0.001274  0.115666  0.000000  1.216925e-08  0.106434  0.063799   \n",
       "8   694  0.001274  0.115666  0.000000  1.216925e-08  0.103636  0.058976   \n",
       "9   695  0.001274  0.115666  0.000000  1.216925e-08  0.112790  0.047034   \n",
       "\n",
       "          C  \n",
       "0  0.787010  \n",
       "1  0.729210  \n",
       "2  0.676352  \n",
       "3  0.515132  \n",
       "4  0.443414  \n",
       "5  0.427126  \n",
       "6  0.379388  \n",
       "7  0.374776  \n",
       "8  0.362678  \n",
       "9  0.294284  "
      ]
     },
     "execution_count": 19,
     "metadata": {},
     "output_type": "execute_result"
    }
   ],
   "source": [
    "#Read our decision Matrix\n",
    "res = pd.read_csv(\"Data/resComm2.csv\")\n",
    "res.head(10)"
   ]
  },
  {
   "cell_type": "markdown",
   "id": "43c43f8e",
   "metadata": {},
   "source": [
    "# The top-10 ranked nodes by Topsis and Centrality measures"
   ]
  },
  {
   "cell_type": "code",
   "execution_count": 20,
   "id": "693d3441",
   "metadata": {},
   "outputs": [],
   "source": [
    "#The top-10 ranked nodes by degree centrality (DC)\n",
    "DCR = res[[\"Node\", \"DC\"]]\n",
    "DCR = DCR.sort_values(by='DC', ascending=False)\n",
    "DCR.rename(columns = {'Node':'DCN'}, inplace=True)\n",
    "\n",
    "DCR[\"DCN\"].to_csv(\"Data/DCRComm2.csv\",index=False)"
   ]
  },
  {
   "cell_type": "code",
   "execution_count": 21,
   "id": "f0475aa2",
   "metadata": {},
   "outputs": [],
   "source": [
    "#The top-10 ranked nodes by betweenness centrality (BC)\n",
    "BCR = res[[\"Node\", \"BC\"]]\n",
    "BCR = BCR.sort_values(by='BC', ascending=False)\n",
    "BCR.rename(columns = {'Node':'BCN'}, inplace=True)\n",
    "\n",
    "BCR[\"BCN\"].to_csv(\"Data/BCRComm2.csv\",index=False)"
   ]
  },
  {
   "cell_type": "code",
   "execution_count": 22,
   "id": "4412b988",
   "metadata": {},
   "outputs": [],
   "source": [
    "#The top-10 ranked nodes by closeness centrality (CC)\n",
    "CCR = res[[\"Node\", \"CC\"]]\n",
    "CCR = CCR.sort_values(by='CC', ascending=False)\n",
    "CCR.rename(columns = {'Node':'CCN'}, inplace=True)\n",
    "\n",
    "CCR[\"CCN\"].to_csv(\"Data/CCRComm2.csv\",index=False)"
   ]
  },
  {
   "cell_type": "code",
   "execution_count": 23,
   "id": "f23bf856",
   "metadata": {},
   "outputs": [],
   "source": [
    "#The top-10 ranked nodes by eigenvector centrality (EC)\n",
    "ECR = res[[\"Node\", \"EC\"]]\n",
    "ECR = ECR.sort_values(by='EC', ascending=False)\n",
    "ECR.rename(columns = {'Node':'ECN'}, inplace=True)\n",
    "\n",
    "ECR[\"ECN\"].to_csv(\"Data/ECRComm2.csv\",index=False)"
   ]
  },
  {
   "cell_type": "code",
   "execution_count": 24,
   "id": "700c4624",
   "metadata": {},
   "outputs": [],
   "source": [
    "fac = pd.concat([pd.read_csv(\"Data/DCRComm2.csv\"),pd.read_csv(\"Data/BCRComm2.csv\"), pd.read_csv(\"Data/CCRComm2.csv\"), pd.read_csv(\"Data/ECRComm2.csv\")],axis=1)"
   ]
  },
  {
   "cell_type": "code",
   "execution_count": 25,
   "id": "3ea5981d",
   "metadata": {},
   "outputs": [
    {
     "data": {
      "text/html": [
       "<div>\n",
       "<style scoped>\n",
       "    .dataframe tbody tr th:only-of-type {\n",
       "        vertical-align: middle;\n",
       "    }\n",
       "\n",
       "    .dataframe tbody tr th {\n",
       "        vertical-align: top;\n",
       "    }\n",
       "\n",
       "    .dataframe thead th {\n",
       "        text-align: right;\n",
       "    }\n",
       "</style>\n",
       "<table border=\"1\" class=\"dataframe\">\n",
       "  <thead>\n",
       "    <tr style=\"text-align: right;\">\n",
       "      <th></th>\n",
       "      <th>DCN</th>\n",
       "      <th>BCN</th>\n",
       "      <th>CCN</th>\n",
       "      <th>ECN</th>\n",
       "      <th>Node</th>\n",
       "    </tr>\n",
       "  </thead>\n",
       "  <tbody>\n",
       "    <tr>\n",
       "      <th>0</th>\n",
       "      <td>686</td>\n",
       "      <td>3604</td>\n",
       "      <td>3604</td>\n",
       "      <td>3545</td>\n",
       "      <td>3604</td>\n",
       "    </tr>\n",
       "    <tr>\n",
       "      <th>1</th>\n",
       "      <td>3545</td>\n",
       "      <td>3830</td>\n",
       "      <td>3545</td>\n",
       "      <td>3596</td>\n",
       "      <td>3830</td>\n",
       "    </tr>\n",
       "    <tr>\n",
       "      <th>2</th>\n",
       "      <td>3596</td>\n",
       "      <td>686</td>\n",
       "      <td>3830</td>\n",
       "      <td>3838</td>\n",
       "      <td>686</td>\n",
       "    </tr>\n",
       "    <tr>\n",
       "      <th>3</th>\n",
       "      <td>3604</td>\n",
       "      <td>3521</td>\n",
       "      <td>3521</td>\n",
       "      <td>3938</td>\n",
       "      <td>3521</td>\n",
       "    </tr>\n",
       "    <tr>\n",
       "      <th>4</th>\n",
       "      <td>3938</td>\n",
       "      <td>3705</td>\n",
       "      <td>3596</td>\n",
       "      <td>3604</td>\n",
       "      <td>3705</td>\n",
       "    </tr>\n",
       "    <tr>\n",
       "      <th>5</th>\n",
       "      <td>3830</td>\n",
       "      <td>3628</td>\n",
       "      <td>3869</td>\n",
       "      <td>3611</td>\n",
       "      <td>3545</td>\n",
       "    </tr>\n",
       "    <tr>\n",
       "      <th>6</th>\n",
       "      <td>713</td>\n",
       "      <td>3918</td>\n",
       "      <td>3617</td>\n",
       "      <td>3488</td>\n",
       "      <td>3628</td>\n",
       "    </tr>\n",
       "    <tr>\n",
       "      <th>7</th>\n",
       "      <td>3838</td>\n",
       "      <td>3545</td>\n",
       "      <td>3722</td>\n",
       "      <td>3804</td>\n",
       "      <td>3596</td>\n",
       "    </tr>\n",
       "    <tr>\n",
       "      <th>8</th>\n",
       "      <td>3980</td>\n",
       "      <td>3722</td>\n",
       "      <td>3672</td>\n",
       "      <td>3790</td>\n",
       "      <td>3918</td>\n",
       "    </tr>\n",
       "    <tr>\n",
       "      <th>9</th>\n",
       "      <td>3521</td>\n",
       "      <td>3566</td>\n",
       "      <td>3705</td>\n",
       "      <td>3824</td>\n",
       "      <td>3722</td>\n",
       "    </tr>\n",
       "  </tbody>\n",
       "</table>\n",
       "</div>"
      ],
      "text/plain": [
       "    DCN   BCN   CCN   ECN  Node\n",
       "0   686  3604  3604  3545  3604\n",
       "1  3545  3830  3545  3596  3830\n",
       "2  3596   686  3830  3838   686\n",
       "3  3604  3521  3521  3938  3521\n",
       "4  3938  3705  3596  3604  3705\n",
       "5  3830  3628  3869  3611  3545\n",
       "6   713  3918  3617  3488  3628\n",
       "7  3838  3545  3722  3804  3596\n",
       "8  3980  3722  3672  3790  3918\n",
       "9  3521  3566  3705  3824  3722"
      ]
     },
     "execution_count": 25,
     "metadata": {},
     "output_type": "execute_result"
    }
   ],
   "source": [
    "#Concate the results\n",
    "comm2 = pd.concat([fac,pd.read_csv(\"Data/TopsisComm2.csv\")],axis=1)\n",
    "\n",
    "comm2 = comm2.head(10)\n",
    "comm2"
   ]
  },
  {
   "cell_type": "markdown",
   "id": "e7176daf",
   "metadata": {},
   "source": [
    "# Application SI Model"
   ]
  },
  {
   "cell_type": "code",
   "execution_count": 26,
   "id": "69c77532",
   "metadata": {},
   "outputs": [],
   "source": [
    "def SI(nodes):\n",
    "    n = 786  \n",
    "    Lst = []\n",
    "    model = ep.SIModel(Graph)\n",
    "    cfg = mc.Configuration()\n",
    "    cfg.add_model_parameter('beta', 0.3)\n",
    "    cfg.add_model_initial_configuration('Infected', nodes)\n",
    "    model.set_initial_status(cfg)\n",
    "    res = pd.DataFrame(columns=['iteration', 'Nb_Susceptible', 'Nb_infected'])\n",
    "    for i in range(n):\n",
    "        iteration = model.iteration()\n",
    "        res.loc[len(res.index)] = [iteration['iteration'],iteration['node_count'][0], iteration['node_count'][1] ]\n",
    "        if iteration['node_count'][1] == n:\n",
    "            break\n",
    "    \n",
    "    Lst.append(res['iteration'].tolist())\n",
    "    Lst.append(res['Nb_Susceptible'].tolist())\n",
    "    Lst.append(res['Nb_infected'].tolist())\n",
    "                     \n",
    "    return Lst"
   ]
  },
  {
   "cell_type": "code",
   "execution_count": 27,
   "id": "e0dbae3a",
   "metadata": {},
   "outputs": [],
   "source": [
    "Rank_DC = set(comm2['DCN'])\n",
    "Rank_BC = set(comm2['BCN'])\n",
    "Rank_CC = set(comm2['CCN'])\n",
    "Rank_EC = set(comm2['ECN'])\n",
    "Rank_Topsis = set(comm2['Node'])\n"
   ]
  },
  {
   "cell_type": "code",
   "execution_count": 28,
   "id": "6f559381",
   "metadata": {},
   "outputs": [],
   "source": [
    "DClst = []\n",
    "BClst = []\n",
    "CClst = []\n",
    "EClst = []\n",
    "TOPSISlst = []\n",
    "for i in range(10):\n",
    "    DClst.append(SI(Rank_DC))\n",
    "    BClst.append(SI(Rank_BC))\n",
    "    CClst.append(SI(Rank_CC))\n",
    "    EClst.append(SI(Rank_EC))\n",
    "    TOPSISlst.append(SI(Rank_Topsis))"
   ]
  },
  {
   "cell_type": "code",
   "execution_count": 29,
   "id": "ef7875b7",
   "metadata": {},
   "outputs": [],
   "source": [
    "def Std_mean(lis):\n",
    "    dc = {}\n",
    "    sd = []\n",
    "    mean = []\n",
    "    for i in range(10):\n",
    "        for j in range(len(lis[i][0])):\n",
    "            dc[lis[i][0][j]]=[]\n",
    "    for i in range(10):\n",
    "        for j in range(len(lis[i][0])):\n",
    "            dc[lis[i][0][j]].append(lis[i][2][j])\n",
    "    for i in dc:\n",
    "        sd.append(np.std(dc[i]))\n",
    "        mean.append(np.mean(dc[i]))\n",
    "    return mean, sd"
   ]
  },
  {
   "cell_type": "code",
   "execution_count": 30,
   "id": "16a14a8b",
   "metadata": {},
   "outputs": [],
   "source": [
    "DCmean, DCsd = Std_mean(DClst)\n",
    "BCmean, BCsd = Std_mean(BClst)\n",
    "CCmean, CCsd = Std_mean(CClst)\n",
    "ECmean, ECsd = Std_mean(EClst)\n",
    "TOPSISmean, TOPSISsd = Std_mean(TOPSISlst)"
   ]
  },
  {
   "cell_type": "markdown",
   "id": "f293011c",
   "metadata": {},
   "source": [
    "# Plot the results"
   ]
  },
  {
   "cell_type": "code",
   "execution_count": 31,
   "id": "f005a593",
   "metadata": {},
   "outputs": [
    {
     "data": {
      "image/png": "[encoded data removed]",
      "text/plain": [
       "<Figure size 1500x900 with 4 Axes>"
      ]
     },
     "metadata": {},
     "output_type": "display_data"
    }
   ],
   "source": [
    "\n",
    "fig, ax = plt.subplots(2, 2,figsize=(15, 9))\n",
    "ax[0, 0].set_title('topsis VS degree centrality')\n",
    "ax[0, 0].plot(list(range(len(TOPSISmean))), TOPSISmean, label='Topsis')\n",
    "ax[0, 0].errorbar(list(range(len(TOPSISmean))), TOPSISmean, yerr=TOPSISsd, fmt ='.k')\n",
    "ax[0, 0].plot(list(range(len(DCmean))) , DCmean, label='DC')\n",
    "ax[0, 0].errorbar(list(range(len(DCmean))), DCmean, yerr=DCsd, fmt ='.k')\n",
    "ax[0, 0].legend()\n",
    "\n",
    "ax[1, 0].set_title('topsis VS closeness centrality')\n",
    "ax[1, 0].plot(list(range(len(CCmean))) , CCmean, label='CC')\n",
    "ax[1, 0].errorbar(list(range(len(CCmean))) , CCmean, yerr=CCsd, fmt ='.k')\n",
    "ax[1, 0].plot(list(range(len(TOPSISmean))), TOPSISmean, label='Topsis')\n",
    "ax[1, 0].errorbar(list(range(len(TOPSISmean))), TOPSISmean, yerr=TOPSISsd, fmt ='.k')\n",
    "ax[1, 0].legend()\n",
    "\n",
    "ax[0, 1].set_title('topsis vs eigenvector centrality')\n",
    "ax[0, 1].plot(list(range(len(ECmean))) , ECmean, label='EC')\n",
    "ax[0, 1].errorbar(list(range(len(ECmean))) , ECmean, yerr=ECsd, fmt ='.k')\n",
    "ax[0, 1].plot(list(range(len(TOPSISmean))), TOPSISmean, label='Topsis')\n",
    "ax[0, 1].errorbar(list(range(len(TOPSISmean))), TOPSISmean, yerr=TOPSISsd, fmt ='.k')\n",
    "ax[0, 1].legend()\n",
    "\n",
    "ax[1, 1].set_title('topsis vs betweeness centrality')\n",
    "ax[1, 1].plot(list(range(len(TOPSISmean))), TOPSISmean, label='BC')\n",
    "ax[1, 1].errorbar(list(range(len(TOPSISmean))), TOPSISmean, yerr=TOPSISsd, fmt ='.k')\n",
    "ax[1, 1].plot(list(range(len(BCmean))) , BCmean, label='Topsis')\n",
    "ax[1, 1].errorbar(list(range(len(BCmean))) , BCmean, yerr=BCsd, fmt ='.k')\n",
    "ax[1, 1].legend()\n",
    "\n",
    "\n",
    "fig.suptitle('comm2')\n",
    "plt.show()"
   ]
  },
  {
   "cell_type": "code",
   "execution_count": null,
   "id": "a825af20",
   "metadata": {},
   "outputs": [],
   "source": []
  }
 ],
 "metadata": {
  "kernelspec": {
   "display_name": "Python 3 (ipykernel)",
   "language": "python",
   "name": "python3"
  },
  "language_info": {
   "codemirror_mode": {
    "name": "ipython",
    "version": 3
   },
   "file_extension": ".py",
   "mimetype": "text/x-python",
   "name": "python",
   "nbconvert_exporter": "python",
   "pygments_lexer": "ipython3",
   "version": "3.9.13"
  }
 },
 "nbformat": 4,
 "nbformat_minor": 5
}
